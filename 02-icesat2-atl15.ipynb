{
 "cells": [
  {
   "cell_type": "markdown",
   "id": "8c820b53-7ea0-4277-a4b8-89cb35ba2662",
   "metadata": {},
   "source": [
    "# ATL15 Analysis Demo\n",
    "\n",
    "In this notebook, we're going to pivot to something more relevant to the IceSAT2 Hackweek. We'll be combining the ATL15 dataset with ERA5.\n",
    "\n",
    "The goals of the demo are to show participants how to:\n",
    "\n",
    "1. Use Arraylake access the ATL15 dataset\n",
    "2. Use Xarray/Zarr/Icechunk to select the region/resolution of interest -- leverging Zarr's hierarchical data structure.\n",
    "4. Perform a simple statistical analysis, combing ERA5 and ATL15\n",
    "\n",
    "We'll start by importing the Python libraries we need for the demo:"
   ]
  },
  {
   "cell_type": "code",
   "execution_count": null,
   "id": "ca90d9f7-b838-4e04-834a-f93e686c1da0",
   "metadata": {},
   "outputs": [],
   "source": [
    "# requirements: pip install arraylake rioxarray dask zarr icechunk rich\n",
    "\n",
    "from arraylake import Client\n",
    "\n",
    "import zarr\n",
    "import xarray as xr\n",
    "from dask.diagnostics import ProgressBar\n",
    "from rasterio.enums import Resampling\n",
    "import rioxarray\n",
    "import matplotlib.pyplot as plt"
   ]
  },
  {
   "cell_type": "code",
   "execution_count": null,
   "id": "a7755a56-9145-471b-bb18-2703d9b49083",
   "metadata": {},
   "outputs": [],
   "source": [
    "client = Client()\n",
    "client.login()"
   ]
  },
  {
   "cell_type": "markdown",
   "id": "679b990e-a17f-4a92-8906-6ffdff892124",
   "metadata": {},
   "source": [
    "## ATL15 + ERA5\n",
    "\n",
    "In this notebook, we'll use part of the ATL15 data product from IceSAT2 to explore changes in ice sheet height. We'll also pull in the ERA5 dataset to add some climatolgical context.\n",
    "\n",
    "We've already ingested the ATL15 dataset. We'll open it using the Arraylake Client and use Zarr's `tree` api to show us what data is available:"
   ]
  },
  {
   "cell_type": "code",
   "execution_count": null,
   "id": "5d9c5ea8-1c45-4afd-a0e6-70662e0cd6b8",
   "metadata": {},
   "outputs": [],
   "source": [
    "repo = client.get_repo(\"ICESAT-2HackWeek/ATL15\")\n",
    "session = repo.readonly_session(\"main\")\n",
    "\n",
    "root = zarr.open_group(session.store, mode='r')\n",
    "root.tree()"
   ]
  },
  {
   "cell_type": "markdown",
   "id": "5cc6c458-a20b-45a0-8c19-02eff81d3ea8",
   "metadata": {},
   "source": [
    "We'll now open a specific group to perform some basic analysis. \n",
    "\n",
    "***Hint: if you are on a small VM, think about using a coarser resolution for this step.***"
   ]
  },
  {
   "cell_type": "code",
   "execution_count": null,
   "id": "8600137e-96ff-474f-86c8-daad2e9adab1",
   "metadata": {},
   "outputs": [],
   "source": [
    "# we can open any of these groups using Xarray. \n",
    "atl15 = xr.open_zarr(session.store, group=\"greenland/20km\")\n",
    "atl15"
   ]
  },
  {
   "cell_type": "markdown",
   "id": "b7a10fd4-49dd-4ec2-ba2a-0d34ce440bf1",
   "metadata": {},
   "source": [
    "Let's plot one time point from this dataset:"
   ]
  },
  {
   "cell_type": "code",
   "execution_count": null,
   "id": "f49cf4a3-6cd1-420a-ba33-341530532969",
   "metadata": {},
   "outputs": [],
   "source": [
    "atl15.isel(time=-20).delta_h.plot(robust=True, figsize=(8,8))"
   ]
  },
  {
   "cell_type": "markdown",
   "id": "3872c66e-9941-4ecd-9484-7f9725e259d0",
   "metadata": {},
   "source": [
    "## Exercise 1 -- extract a time series from a single point near the southern tip of Greenland"
   ]
  },
  {
   "cell_type": "code",
   "execution_count": null,
   "id": "9c2a8527-6d1b-4a4c-b616-8e7e043e3781",
   "metadata": {},
   "outputs": [],
   "source": []
  },
  {
   "cell_type": "markdown",
   "id": "f0d62243-0992-4f87-a8d9-6e6096d0ef2c",
   "metadata": {},
   "source": [
    "## Exercise 2 -- Calculate and plot the cumulative change in Ice sheet heigh over the observed record."
   ]
  },
  {
   "cell_type": "code",
   "execution_count": null,
   "id": "a7c9a9ef-dde9-44b5-9612-10ac6a10967e",
   "metadata": {},
   "outputs": [],
   "source": []
  },
  {
   "cell_type": "markdown",
   "id": "b252d2f0-fe6a-4f27-8060-cc4f53defa2a",
   "metadata": {},
   "source": [
    "## Bonus exercise -- also do this for Antarctica!\n",
    "\n",
    "(or Greenland if you started with Antarctica)"
   ]
  },
  {
   "cell_type": "code",
   "execution_count": null,
   "id": "a9cbd58d-6331-45c4-a0d9-2d924347100d",
   "metadata": {},
   "outputs": [],
   "source": []
  },
  {
   "cell_type": "markdown",
   "id": "9453c4ac-f377-4d04-8cc0-c040844d2e3b",
   "metadata": {},
   "source": [
    "## Are the changes in Ice sheet height correlated with local climate conditions?\n",
    "\n",
    "This is a somewhat naive analysis but I hope its useful for showing how we can merge the ERA5 weather reanalysis with the ATL15 dataset.\n",
    "\n",
    "The steps we'll run through include:\n",
    "\n",
    "1. Open the ERA5 dataset using the Arraylake Client, Icechunk, and Xarray\n",
    "2. Sub-select a specific time / region to match ATL15 Greenland\n",
    "3. Reproject the ERA5 2-meter air temperature dataset onto the ATL15 grid\n",
    "4. Compare quarterly changes in ice sheet height to temperature"
   ]
  },
  {
   "cell_type": "code",
   "execution_count": null,
   "id": "43ab2074-fe62-4ef0-9aad-b592b1a0c224",
   "metadata": {},
   "outputs": [],
   "source": [
    "repo = client.get_repo(\"earthmover-public/era5-surface-aws\")\n",
    "session = repo.readonly_session(\"main\")\n",
    "era5 = xr.open_zarr(session.store, group=\"temporal\")\n",
    "era5"
   ]
  },
  {
   "cell_type": "markdown",
   "id": "4281a28a-e35f-4132-93d2-2213ad32b269",
   "metadata": {},
   "source": [
    "Calculate the Seasonal average 2-meter air temperature for Greenland\n",
    "\n",
    "Note that we also have some data chores we need to do before we can reproject the data:\n",
    "\n",
    "- switch the longitude to -180-180\n",
    "- sort the logitude"
   ]
  },
  {
   "cell_type": "code",
   "execution_count": null,
   "id": "c078e0a8-035d-4eee-aa08-c4102b83a88f",
   "metadata": {},
   "outputs": [],
   "source": [
    "with ProgressBar():\n",
    "    era5_q = era5[['t2']].sel(time=slice('2019', '2024'), longitude=slice(270, 360), latitude=slice(90, 50)).resample(time='QS-JAN').mean().load()\n",
    "\n",
    "# fix longitude\n",
    "era5_q = era5_q.assign_coords(\n",
    "    longitude=((era5_q.longitude + 180) % 360) - 180\n",
    ")\n",
    "\n",
    "# sort so lon increases monotonically\n",
    "era5_q = era5_q.sortby(\"longitude\")"
   ]
  },
  {
   "cell_type": "markdown",
   "id": "9efe3174-1ca7-496b-9d06-dfe1f9252e57",
   "metadata": {},
   "source": [
    "We can now reproject the data using RasterIO:"
   ]
  },
  {
   "cell_type": "code",
   "execution_count": null,
   "id": "fcdd8fbc-20d4-4e34-9209-46117738ef88",
   "metadata": {},
   "outputs": [],
   "source": [
    "era5_q = era5_q.rio.write_crs(\"EPSG:4326\").rio.set_spatial_dims(\"longitude\", \"latitude\")\n",
    "atl15 = atl15.resample(time=\"QS-JAN\").first()\n",
    "atl15 = atl15.rio.write_crs(\"EPSG:3413\").rio.set_spatial_dims(\"x\", \"y\")  # or EPSG:3031\n",
    "\n",
    "era5_q_atl15 = era5_q.rio.reproject_match(atl15, resampling=Resampling.bilinear)\n",
    "era5_q_atl15.t2.isel(time=0).where(atl15.ice_area.sum(dim='time') > 0).plot()"
   ]
  },
  {
   "cell_type": "code",
   "execution_count": null,
   "id": "80e12281-c38c-4481-8a80-c6c7ce908083",
   "metadata": {},
   "outputs": [],
   "source": [
    "# add the reprojected data to the atl15 dataset\n",
    "atl15['t2'] = era5_q_atl15.t2\n",
    "atl15"
   ]
  },
  {
   "cell_type": "markdown",
   "id": "fa6d1064-814a-4714-ae5b-99248f31e3df",
   "metadata": {},
   "source": [
    "Now that the two datasets are aligned on the same spatio-temporal grid, we look to see if changes in ice sheet thickness are correlated with the seasonal temperature.\n",
    "\n",
    "**Challenge: can you think of a better analysis? Give it a try 👇**"
   ]
  },
  {
   "cell_type": "code",
   "execution_count": null,
   "id": "2d4a1069-c521-400e-b276-dda3a1f1e3fb",
   "metadata": {},
   "outputs": [],
   "source": [
    "atl15.where(atl15.time.dt.season == 'JJA').plot.scatter(y='delta_h', x='t2', hue='delta_h_sigma', alpha=0.7, linewidth=0., vmax=0.5)"
   ]
  },
  {
   "cell_type": "code",
   "execution_count": null,
   "id": "d032c7d3-a9e5-450a-92b3-1255d09157f1",
   "metadata": {},
   "outputs": [],
   "source": []
  }
 ],
 "metadata": {
  "kernelspec": {
   "display_name": "Python 3 (ipykernel)",
   "language": "python",
   "name": "python3"
  },
  "language_info": {
   "codemirror_mode": {
    "name": "ipython",
    "version": 3
   },
   "file_extension": ".py",
   "mimetype": "text/x-python",
   "name": "python",
   "nbconvert_exporter": "python",
   "pygments_lexer": "ipython3",
   "version": "3.12.11"
  }
 },
 "nbformat": 4,
 "nbformat_minor": 5
}
